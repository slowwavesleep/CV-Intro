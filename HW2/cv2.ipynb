{
  "nbformat": 4,
  "nbformat_minor": 0,
  "metadata": {
    "colab": {
      "name": "cv2.ipynb",
      "provenance": [],
      "collapsed_sections": []
    },
    "kernelspec": {
      "name": "python3",
      "display_name": "Python 3"
    }
  },
  "cells": [
    {
      "cell_type": "code",
      "metadata": {
        "id": "2vSa4smQXVsE",
        "colab_type": "code",
        "colab": {}
      },
      "source": [
        "# Реализовать и обучить (с нуля) СНС для задачи классификации изображений на датасете CIFAR-10"
      ],
      "execution_count": 0,
      "outputs": []
    },
    {
      "cell_type": "code",
      "metadata": {
        "id": "yYVwDdu98Gv8",
        "colab_type": "code",
        "colab": {}
      },
      "source": [
        "%tensorflow_version 2.x"
      ],
      "execution_count": 0,
      "outputs": []
    },
    {
      "cell_type": "code",
      "metadata": {
        "id": "0GgdPfASXe90",
        "colab_type": "code",
        "colab": {}
      },
      "source": [
        "import tensorflow as tf\n",
        "from tensorflow.keras import models, layers\n",
        "import numpy as np\n",
        "import matplotlib.pyplot as plt\n",
        "import random"
      ],
      "execution_count": 0,
      "outputs": []
    },
    {
      "cell_type": "code",
      "metadata": {
        "id": "5sktLELYXXTL",
        "colab_type": "code",
        "colab": {
          "base_uri": "https://localhost:8080/",
          "height": 51
        },
        "outputId": "6456f0ad-6669-4cb7-c8df-5927af1ef52d"
      },
      "source": [
        "(X_train, y_train), (X_test, y_test) = tf.keras.datasets.cifar10.load_data()"
      ],
      "execution_count": 3,
      "outputs": [
        {
          "output_type": "stream",
          "text": [
            "Downloading data from https://www.cs.toronto.edu/~kriz/cifar-10-python.tar.gz\n",
            "170500096/170498071 [==============================] - 4s 0us/step\n"
          ],
          "name": "stdout"
        }
      ]
    },
    {
      "cell_type": "code",
      "metadata": {
        "id": "SDn_oxbs9W8h",
        "colab_type": "code",
        "colab": {}
      },
      "source": [
        "X_train = X_train.reshape(-1, 32, 32, 3).astype(np.float32) / 255.\n",
        "X_test = X_test.reshape(-1, 32, 32, 3).astype(np.float32) / 255.\n",
        "\n",
        "y_train = y_train.reshape(-1,).astype(np.int32)\n",
        "y_test = y_test.reshape(-1,).astype(np.int32)"
      ],
      "execution_count": 0,
      "outputs": []
    },
    {
      "cell_type": "code",
      "metadata": {
        "id": "NK-jTJA99th3",
        "colab_type": "code",
        "colab": {}
      },
      "source": [
        "NUM_EPOCHS = 5\n",
        "BATCH_SIZE = 128\n",
        "\n",
        "train_ds = tf.data.Dataset.from_tensor_slices((X_train, y_train))\n",
        "train_ds = train_ds.shuffle(buffer_size=X_train.shape[0])\n",
        "train_ds = train_ds.repeat(NUM_EPOCHS)\n",
        "train_ds = train_ds.batch(BATCH_SIZE)"
      ],
      "execution_count": 0,
      "outputs": []
    },
    {
      "cell_type": "code",
      "metadata": {
        "id": "R4rILv4a-YXV",
        "colab_type": "code",
        "colab": {}
      },
      "source": [
        "def loss(logits, labels):\n",
        "  return tf.reduce_mean(tf.nn.sparse_softmax_cross_entropy_with_logits(logits=logits,\n",
        "                                                                       labels=labels))\n",
        "\n",
        "def accuracy(logits, labels):\n",
        "  predictions = tf.argmax(logits, axis=1, output_type=tf.int32)\n",
        "  return tf.reduce_mean(tf.cast(tf.equal(predictions, labels), dtype=tf.float32))"
      ],
      "execution_count": 0,
      "outputs": []
    },
    {
      "cell_type": "code",
      "metadata": {
        "id": "rzoVN79D5ldi",
        "colab_type": "code",
        "colab": {}
      },
      "source": [
        "class Model(tf.keras.Model):\n",
        "\n",
        "  def __init__(self):\n",
        "    super(Model, self).__init__()\n",
        "\n",
        "    self.conv2d_1 = layers.Conv2D(32, (5, 5), activation='relu',\n",
        "                                  padding=\"same\")\n",
        "    \n",
        "    self.avgpool2d_1 = layers.AveragePooling2D(pool_size=(2, 2), strides=(2, 2),\n",
        "                                               padding='valid')\n",
        "    \n",
        "    self.conv2d_2 = layers.Conv2D(64, (5, 5), activation='relu',\n",
        "                                  padding='same')\n",
        "    \n",
        "    self.avgpool2d_2 = layers.AveragePooling2D(pool_size=(2, 2), strides=(2, 2),\n",
        "                                               padding='same')\n",
        "    \n",
        "    self.convd2d_3 = layers.Conv2D(64, (5, 5), activation='relu',\n",
        "                                   padding='same')\n",
        "    \n",
        "    self.maxpool2d_1 = layers.MaxPooling2D(pool_size=(2, 2), strides=(2, 2),\n",
        "                                           padding='same')\n",
        "    \n",
        "    self.conv2d_4 = layers.Conv2D(128, (5, 5), activation='relu',\n",
        "                                  padding='same')\n",
        "    \n",
        "    self.flat = layers.Flatten()\n",
        "\n",
        "    self.dense_1 = layers.Dense(256, activation='relu')\n",
        "    self.dense_2 = layers.Dense(10, activation='softmax')\n",
        "  \n",
        "  def call(self, inp):\n",
        "    out = self.conv2d_1(inp)\n",
        "    out = self.avgpool2d_1(out)\n",
        "    out = self.conv2d_2(out)\n",
        "    out = self.avgpool2d_2(out)\n",
        "    out = self.convd2d_3(out)\n",
        "    out = self.maxpool2d_1(out)\n",
        "    out = self.conv2d_4(out)\n",
        "    out = self.flat(out)\n",
        "    out = self.dense_1(out)\n",
        "    out = self.dense_2(out)\n",
        "    return out"
      ],
      "execution_count": 0,
      "outputs": []
    },
    {
      "cell_type": "code",
      "metadata": {
        "id": "5NOaNOefXztC",
        "colab_type": "code",
        "colab": {}
      },
      "source": [
        "model = Model()"
      ],
      "execution_count": 0,
      "outputs": []
    },
    {
      "cell_type": "code",
      "metadata": {
        "id": "IwlGZQQq-l8f",
        "colab_type": "code",
        "colab": {}
      },
      "source": [
        "LEARNING_RATE = 0.001\n",
        "\n",
        "optimizer = tf.keras.optimizers.Adam(LEARNING_RATE)\n",
        "writer = tf.summary.create_file_writer('logs/adam')\n",
        "\n",
        "model = Model()"
      ],
      "execution_count": 0,
      "outputs": []
    },
    {
      "cell_type": "code",
      "metadata": {
        "id": "YRWqJvyT8qW3",
        "colab_type": "code",
        "colab": {
          "base_uri": "https://localhost:8080/",
          "height": 731
        },
        "outputId": "55d3d5c9-3abb-4300-af24-22d0801e2a29"
      },
      "source": [
        "%%time\n",
        "\n",
        "for iteration, (images, labels) in enumerate(train_ds):\n",
        "\n",
        "  # Forward\n",
        "  with tf.GradientTape() as tape:\n",
        "    logits = model(images)\n",
        "    loss_value = loss(logits, labels)\n",
        "\n",
        "  # Backward\n",
        "  grads = tape.gradient(loss_value, model.trainable_variables)\n",
        "  optimizer.apply_gradients(zip(grads, model.trainable_variables))\n",
        "  \n",
        "\n",
        "  if iteration % 50 == 0:\n",
        "    test_logits = model(X_train[:256, ...])\n",
        "    accuracy_value = accuracy(test_logits, y_train[:256, ...])\n",
        "\n",
        "    print(f'[{iteration:>6}] Accuracy: {accuracy_value.numpy()*100:>5.2f} %')\n",
        "\n",
        "    with writer.as_default():\n",
        "      tf.summary.scalar('accuracy', accuracy_value, iteration)\n",
        "      tf.summary.scalar('loss', loss_value, iteration)"
      ],
      "execution_count": 42,
      "outputs": [
        {
          "output_type": "stream",
          "text": [
            "[     0] Accuracy:  7.03 %\n",
            "[    50] Accuracy: 20.31 %\n",
            "[   100] Accuracy: 32.42 %\n",
            "[   150] Accuracy: 34.77 %\n",
            "[   200] Accuracy: 34.77 %\n",
            "[   250] Accuracy: 35.94 %\n",
            "[   300] Accuracy: 41.80 %\n",
            "[   350] Accuracy: 41.41 %\n",
            "[   400] Accuracy: 43.36 %\n",
            "[   450] Accuracy: 45.70 %\n",
            "[   500] Accuracy: 36.72 %\n",
            "[   550] Accuracy: 46.09 %\n",
            "[   600] Accuracy: 47.27 %\n",
            "[   650] Accuracy: 46.88 %\n",
            "[   700] Accuracy: 48.44 %\n",
            "[   750] Accuracy: 48.05 %\n",
            "[   800] Accuracy: 49.22 %\n",
            "[   850] Accuracy: 54.69 %\n",
            "[   900] Accuracy: 48.44 %\n",
            "[   950] Accuracy: 53.91 %\n",
            "[  1000] Accuracy: 49.22 %\n",
            "[  1050] Accuracy: 55.86 %\n",
            "[  1100] Accuracy: 49.61 %\n",
            "[  1150] Accuracy: 51.56 %\n",
            "[  1200] Accuracy: 54.69 %\n",
            "[  1250] Accuracy: 55.47 %\n",
            "[  1300] Accuracy: 52.73 %\n",
            "[  1350] Accuracy: 55.08 %\n",
            "[  1400] Accuracy: 53.91 %\n",
            "[  1450] Accuracy: 59.38 %\n",
            "[  1500] Accuracy: 57.03 %\n",
            "[  1550] Accuracy: 59.77 %\n",
            "[  1600] Accuracy: 59.77 %\n",
            "[  1650] Accuracy: 59.38 %\n",
            "[  1700] Accuracy: 60.55 %\n",
            "[  1750] Accuracy: 57.42 %\n",
            "[  1800] Accuracy: 60.55 %\n",
            "[  1850] Accuracy: 61.33 %\n",
            "[  1900] Accuracy: 61.33 %\n",
            "[  1950] Accuracy: 48.44 %\n",
            "CPU times: user 41min 19s, sys: 41.5 s, total: 42min\n",
            "Wall time: 23min 7s\n"
          ],
          "name": "stdout"
        }
      ]
    },
    {
      "cell_type": "code",
      "metadata": {
        "id": "WJoqIvDqAfFH",
        "colab_type": "code",
        "colab": {}
      },
      "source": [
        "def test_image(sample):\n",
        "  logits = model(sample[None, ...])[0]\n",
        "  prediction = tf.nn.softmax(logits)\n",
        "  ans = np.argmax(prediction)\n",
        "\n",
        "  fig = plt.figure(figsize=(12,4))\n",
        "\n",
        "  ax = fig.add_subplot(1,2,1)\n",
        "  ax.imshow(sample)\n",
        "  plt.xticks([]), plt.yticks([])\n",
        "\n",
        "  ax = fig.add_subplot(1,2,2)\n",
        "  bar_list = ax.bar(np.arange(10), prediction, align='center')\n",
        "  bar_list[ans].set_color('g')\n",
        "  ax.grid(True)\n",
        "\n",
        "  plt.show()"
      ],
      "execution_count": 0,
      "outputs": []
    },
    {
      "cell_type": "markdown",
      "metadata": {
        "id": "G75gqQDEO3cl",
        "colab_type": "text"
      },
      "source": [
        "Classes: <br>\n",
        "1. airplance\n",
        "2. automobile\n",
        "3. bird\n",
        "4. cat\n",
        "5. deer\n",
        "6. dog\n",
        "7. frog\n",
        "8. horse\n",
        "9. ship\n",
        "10. truck"
      ]
    },
    {
      "cell_type": "code",
      "metadata": {
        "id": "-BMovq8nN2ay",
        "colab_type": "code",
        "colab": {
          "base_uri": "https://localhost:8080/",
          "height": 265
        },
        "outputId": "8289b6fe-1721-4cfa-b2fb-3618ff0ab9a8"
      },
      "source": [
        "idx = random.randint(0, X_test.shape[0])\n",
        "sample = X_test[idx, ...]\n",
        "test_image(sample)"
      ],
      "execution_count": 68,
      "outputs": [
        {
          "output_type": "display_data",
          "data": {
            "image/png": "[encoded data removed]",
            "text/plain": [
              "<Figure size 864x288 with 2 Axes>"
            ]
          },
          "metadata": {
            "tags": [],
            "needs_background": "light"
          }
        }
      ]
    },
    {
      "cell_type": "code",
      "metadata": {
        "id": "_1sEOKVkN5JQ",
        "colab_type": "code",
        "colab": {}
      },
      "source": [
        ""
      ],
      "execution_count": 0,
      "outputs": []
    }
  ]
}